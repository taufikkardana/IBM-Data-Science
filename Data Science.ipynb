{
    "cells": [
        {
            "cell_type": "markdown",
            "metadata": {},
            "source": "# My Jupyter Notebook on IBM Watson Studio"
        },
        {
            "cell_type": "markdown",
            "metadata": {},
            "source": "Author: __Muhammad Taufik 'Dan' Kardana__\n<br>\nDesired occupation: Data Analyst/Scientist"
        },
        {
            "cell_type": "markdown",
            "metadata": {},
            "source": "_I am interested in data science because I have inquisitive mind like uncovering potential information from datasets and create actionable insights_"
        },
        {
            "cell_type": "markdown",
            "metadata": {},
            "source": "### Simple math calculation using python"
        },
        {
            "cell_type": "code",
            "execution_count": 3,
            "metadata": {},
            "outputs": [
                {
                    "data": {
                        "text/plain": "66"
                    },
                    "execution_count": 3,
                    "metadata": {},
                    "output_type": "execute_result"
                }
            ],
            "source": "# multiplication and addition\n(6*9)+12"
        },
        {
            "cell_type": "markdown",
            "metadata": {},
            "source": "Today I play around with IBM Watson Jupyter Notebook\n<br>\nHere is what I did:\n* Create IBM Watson Studio ID\n* Create my first project in IBM Watson environment\n* Integrate my IBM Watson to my personal Github\n\nOutside of doing my course, I did:\n1. Eat lunch together with my girlfriend\n2. Play and gave my bird head scratches\n3. Watched F1: Drive to Survive series on Netflix\n\nAt the moment of writing this code, I am trying out how to insert image in this notebook. Below is my attempt. If you see the image then it's a success!\n<br>\n<img src=\"https://i.imgflip.com/138i0b.jpg?a476328\">"
        },
        {
            "cell_type": "code",
            "execution_count": null,
            "metadata": {},
            "outputs": [],
            "source": "Cell 1 (rendered as Markdown): The title should be \u201cMy Jupyter Notebook on IBM Watson Studio\u201d, in H1 header style. The title is not center aligned.\n\nCell 2 (rendered as Markdown): Include your name, in bold. In the next line, write your current or desired occupation in regular font.\n\nCell 3 (rendered as Markdown): In italics, write one or two sentences about why you are interested in data science. For example, you can start your first sentence with \u201cI am interested in data science because\u2026\u201d.\n\nCell 4 (rendered as Markdown): In H3 header style, describe your code in Cell 5 using a few short sentences.\n\nCell 5 (code cell): Enter your code, as described in Cell 4. It must be executed and must display an output. Try to keep the code simple (it can even be \u201c1 + 1\u201d).\n\nCell 6 (rendered as Markdown): Using Markdown or HTML, this cell must include at least three of the following: bulleted list, numbered list, tables, hyperlinks, images."
        }
    ],
    "metadata": {
        "kernelspec": {
            "display_name": "Python 3.10",
            "language": "python",
            "name": "python3"
        },
        "language_info": {
            "codemirror_mode": {
                "name": "ipython",
                "version": 3
            },
            "file_extension": ".py",
            "mimetype": "text/x-python",
            "name": "python",
            "nbconvert_exporter": "python",
            "pygments_lexer": "ipython3",
            "version": "3.10.14"
        }
    },
    "nbformat": 4,
    "nbformat_minor": 1
}