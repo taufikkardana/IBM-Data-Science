{
 "cells": [
  {
   "cell_type": "markdown",
   "metadata": {},
   "source": [
    "Structured | Unstructured | File-based/others |\n",
    "---------- | ------------ | ----------------- |\n",
    "MySQL      | MongoDB      | Hadoop File System|\n",
    "PostgreSQL | ApacheCouchDB| Ceph              |\n",
    "None       | None         | Elastic search    |"
   ]
  },
  {
   "cell_type": "markdown",
   "metadata": {},
   "source": []
  }
 ],
 "metadata": {
  "language_info": {
   "name": "python"
  }
 },
 "nbformat": 4,
 "nbformat_minor": 2
}
